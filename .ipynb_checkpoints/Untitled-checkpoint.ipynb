{
 "cells": [
  {
   "cell_type": "code",
   "execution_count": null,
   "id": "3b9f78b0-eb88-4869-b46b-f58124e728fe",
   "metadata": {},
   "outputs": [],
   "source": [
    "import pandas as pd\n",
    "from sklearn.metrics.pairwise import cosine_similarity\n",
    "import numpy as np\n",
    "\n",
    "# 模拟用户-物品评分矩阵\n",
    "ratings_dict = {\n",
    "    \"user\": [\"A\", \"A\", \"A\", \"B\", \"B\", \"C\", \"C\", \"C\"],\n",
    "    \"anime\": [\"anime1\", \"anime2\", \"anime4\", \"anime1\", \"anime3\", \"anime2\", \"anime3\", \"anime4\"],\n",
    "    \"rating\": [5, 4, 2, 3, 4, 2, 5, 4]\n",
    "}\n",
    "ratings = pd.DataFrame(ratings_dict)\n",
    "print(\"原始评分数据：\\n\", ratings)\n",
    "\n",
    "# 构建用户-物品矩阵\n",
    "user_item_matrix = ratings.pivot(index='user', columns='anime', values='rating')\n",
    "print(\"用户-物品打分矩阵：\\n\", user_item_matrix)\n",
    "\n",
    "# 计算用户之间的相似度\n",
    "user_sim = pd.DataFrame(\n",
    "    cosine_similarity(user_item_matrix.fillna(0)),\n",
    "    index=user_item_matrix.index,\n",
    "    columns=user_item_matrix.index\n",
    ")\n",
    "print(\"用户相似度：\\n\", user_sim)\n",
    "\n",
    "# 推荐核心：为用户A推荐她没看过的\n",
    "target_user = 'A'\n",
    "user_ratings = user_item_matrix.loc[target_user]\n",
    "unwatched = user_ratings[user_ratings.isna()].index\n",
    "print(\"A没看过的：\", unwatched)\n",
    "\n",
    "# 对于每个没看过的，算加权平均分\n",
    "def predict_rating(user, item):\n",
    "    sim_scores = user_sim.loc[user]\n",
    "    item_ratings = user_item_matrix[item]\n",
    "    mask = ~item_ratings.isna() & (item_ratings.index != user)\n",
    "    if mask.sum() == 0:\n",
    "        return np.nan\n",
    "    # 相似度*其他用户打分，加权平均\n",
    "    return np.dot(sim_scores[mask], item_ratings[mask]) / sim_scores[mask].sum()\n",
    "\n",
    "for item in unwatched:\n",
    "    pred = predict_rating(target_user, item)\n",
    "    print(f\"预测用户A对{item}的评分：{pred:.2f}\")\n",
    "\n",
    "# 可选：挑评分最高的推荐"
   ]
  }
 ],
 "metadata": {
  "kernelspec": {
   "display_name": "Python [conda env:base] *",
   "language": "python",
   "name": "conda-base-py"
  },
  "language_info": {
   "codemirror_mode": {
    "name": "ipython",
    "version": 3
   },
   "file_extension": ".py",
   "mimetype": "text/x-python",
   "name": "python",
   "nbconvert_exporter": "python",
   "pygments_lexer": "ipython3",
   "version": "3.13.5"
  }
 },
 "nbformat": 4,
 "nbformat_minor": 5
}
