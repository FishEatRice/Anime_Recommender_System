{
 "cells": [
  {
   "cell_type": "markdown",
   "id": "aaa6ab8e-3319-4e32-a082-83359d109ced",
   "metadata": {},
   "source": [
    "# Collarative Filtering - On Yuen Shern"
   ]
  },
  {
   "cell_type": "markdown",
   "id": "a7667794-55bc-4af8-b1f6-51667057705b",
   "metadata": {},
   "source": [
    "## Import libraries"
   ]
  },
  {
   "cell_type": "code",
   "execution_count": null,
   "id": "edb914b1-392a-4363-a2dd-096dd4d09758",
   "metadata": {},
   "outputs": [],
   "source": [
    "import pandas as pd\n",
    "from sklearn.metrics.pairwise import cosine_similarity\n",
    "from sklearn.metrics import mean_squared_error\n",
    "import numpy as np"
   ]
  },
  {
   "cell_type": "markdown",
   "id": "1f7a7db5-a021-49ea-9eaf-9e673e39bec0",
   "metadata": {},
   "source": [
    "## Read CSV"
   ]
  },
  {
   "cell_type": "code",
   "execution_count": null,
   "id": "6681e17b-de32-4cce-ab1d-f61055012f46",
   "metadata": {},
   "outputs": [],
   "source": [
    "# Why using ISO-8859-1?\n",
    "# Having invalid start byte (not utf-8 caharacters) \n",
    "reviews = pd.read_csv(\"data/reviews.csv\", encoding=\"ISO-8859-1\")\n",
    "print(reviews)\n",
    "\n",
    "print(\"-------------------------------------------------------------------------\")\n",
    "\n",
    "animes = pd.read_csv(\"data/animes.csv\", encoding=\"utf-8\")\n",
    "print(animes)"
   ]
  },
  {
   "cell_type": "markdown",
   "id": "3d3a63f3-652c-47c7-8aec-3420d11e20b8",
   "metadata": {},
   "source": [
    "## Keep only needed columns"
   ]
  },
  {
   "cell_type": "code",
   "execution_count": null,
   "id": "4c63eb33-f8af-46e6-b8b3-07b9fe604ea3",
   "metadata": {},
   "outputs": [],
   "source": [
    "reviews = reviews[['profile', 'anime_uid', 'rating']].dropna()\n",
    "print(reviews)\n",
    "\n",
    "print(\"---------------------------------------------------------\")\n",
    "animes = animes[['uid', 'title']]\n",
    "print(animes)"
   ]
  },
  {
   "cell_type": "markdown",
   "id": "f7e27417-0a11-437a-98a5-3256e506262c",
   "metadata": {},
   "source": [
    "## Make connect map from review to animes"
   ]
  },
  {
   "cell_type": "code",
   "execution_count": null,
   "id": "c5c64505-66ee-401b-b58d-500f084028c3",
   "metadata": {},
   "outputs": [],
   "source": [
    "# To get anime title by using UID\n",
    "anime_map = dict(zip(animes['uid'].astype(str), animes['title']))"
   ]
  },
  {
   "cell_type": "markdown",
   "id": "16b8a23b-a482-4a4b-8542-f30c9ca4ae54",
   "metadata": {},
   "source": [
    "## Replace Anime_UID with title"
   ]
  },
  {
   "cell_type": "code",
   "execution_count": null,
   "id": "bd3f51ae-1368-45a2-ac8c-182e82580414",
   "metadata": {},
   "outputs": [],
   "source": [
    "reviews['title'] = reviews['anime_uid'].astype(str).map(anime_map)\n",
    "\n",
    "# Drop missing titles\n",
    "reviews = reviews.dropna(subset=['title'])\n",
    "\n",
    "print(reviews)"
   ]
  },
  {
   "cell_type": "markdown",
   "id": "f643fb67-7347-4694-a884-fa869df52e78",
   "metadata": {},
   "source": [
    "## Create Anime x User Rating Matrix"
   ]
  },
  {
   "cell_type": "code",
   "execution_count": null,
   "id": "c1134c36-c12d-4540-8d9e-dc54a936a642",
   "metadata": {},
   "outputs": [],
   "source": [
    "reviews['rating'] = pd.to_numeric(reviews['rating'], errors='coerce')\n",
    "\n",
    "anime_user_matrix = reviews.pivot_table(\n",
    "    index='title', \n",
    "    columns='profile', \n",
    "    values='rating'\n",
    ").fillna(0)\n",
    "\n",
    "print(\"Matrix shape:\", anime_user_matrix.shape)"
   ]
  },
  {
   "cell_type": "markdown",
   "id": "c238c9ff-4f7b-4bca-b872-6108db4d1ad1",
   "metadata": {},
   "source": [
    "## Calculate Similarity"
   ]
  },
  {
   "cell_type": "code",
   "execution_count": null,
   "id": "d610386d-671b-4a23-b647-035afd0f93d4",
   "metadata": {},
   "outputs": [],
   "source": [
    "anime_similarity = cosine_similarity(anime_user_matrix)\n",
    "anime_similarity_df = pd.DataFrame(\n",
    "    anime_similarity, \n",
    "    index=anime_user_matrix.index, \n",
    "    columns=anime_user_matrix.index\n",
    ")\n",
    "\n",
    "print(anime_similarity_df)"
   ]
  },
  {
   "cell_type": "markdown",
   "id": "5dd4914e-a72a-4e98-a9f5-c0db93ee7d19",
   "metadata": {},
   "source": [
    "## Recommender Function"
   ]
  },
  {
   "cell_type": "code",
   "execution_count": 142,
   "id": "82ecbdd2-8198-47a6-80c5-989b3c882b7a",
   "metadata": {},
   "outputs": [
    {
     "name": "stdout",
     "output_type": "stream",
     "text": [
      "Recommendations for Toradora!:\n",
      "title\n",
      "Ano Hi Mita Hana no Namae wo Bokutachi wa Mada Shiranai.    0.082492\n",
      "Steins;Gate                                                 0.065001\n",
      "Clannad: After Story                                        0.064809\n",
      "Chuunibyou demo Koi ga Shitai!                              0.064765\n",
      "Sakura-sou no Pet na Kanojo                                 0.064010\n",
      "Name: Toradora!, dtype: float64\n"
     ]
    }
   ],
   "source": [
    "def recommend_similar_anime(anime_title, n=10):\n",
    "    if anime_title not in anime_similarity_df.index:\n",
    "        return [\"Anime not found!\"]\n",
    "    \n",
    "    sim_scores = anime_similarity_df[anime_title].sort_values(ascending=False)\n",
    "    sim_scores = sim_scores.drop(anime_title)  # remove itself\n",
    "    return sim_scores.head(n)\n",
    "\n",
    "# Example\n",
    "print(\"Recommendations for Toradora!:\")\n",
    "print(recommend_similar_anime(\"Toradora!\", 5))"
   ]
  },
  {
   "cell_type": "code",
   "execution_count": null,
   "id": "df2eb25d-514b-496e-9aba-0710698b8b2a",
   "metadata": {},
   "outputs": [],
   "source": []
  }
 ],
 "metadata": {
  "kernelspec": {
   "display_name": "Python [conda env:base] *",
   "language": "python",
   "name": "conda-base-py"
  },
  "language_info": {
   "codemirror_mode": {
    "name": "ipython",
    "version": 3
   },
   "file_extension": ".py",
   "mimetype": "text/x-python",
   "name": "python",
   "nbconvert_exporter": "python",
   "pygments_lexer": "ipython3",
   "version": "3.13.5"
  }
 },
 "nbformat": 4,
 "nbformat_minor": 5
}
