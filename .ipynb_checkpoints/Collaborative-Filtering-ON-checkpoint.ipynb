{
 "cells": [
  {
   "cell_type": "markdown",
   "id": "aaa6ab8e-3319-4e32-a082-83359d109ced",
   "metadata": {},
   "source": [
    "# Collarative Filtering - On Yuen Shern"
   ]
  },
  {
   "cell_type": "markdown",
   "id": "a7667794-55bc-4af8-b1f6-51667057705b",
   "metadata": {},
   "source": [
    "## Import libraries"
   ]
  },
  {
   "cell_type": "code",
   "execution_count": 79,
   "id": "edb914b1-392a-4363-a2dd-096dd4d09758",
   "metadata": {},
   "outputs": [],
   "source": [
    "import pandas as pd\n",
    "from sklearn.metrics.pairwise import cosine_similarity\n",
    "from sklearn.metrics import mean_squared_error\n",
    "import numpy as np"
   ]
  },
  {
   "cell_type": "markdown",
   "id": "1f7a7db5-a021-49ea-9eaf-9e673e39bec0",
   "metadata": {},
   "source": [
    "## Read CSV"
   ]
  },
  {
   "cell_type": "code",
   "execution_count": 110,
   "id": "6681e17b-de32-4cce-ab1d-f61055012f46",
   "metadata": {},
   "outputs": [
    {
     "name": "stdout",
     "output_type": "stream",
     "text": [
      "           uid          profile anime_uid rating  \\\n",
      "0       255938   DesolatePsyche     34096      8   \n",
      "1       259117        baekbeans     34599     10   \n",
      "2       253664             skrn     28891      7   \n",
      "3         8254     edgewalker00      2904      9   \n",
      "4       291149  aManOfCulture99      4181     10   \n",
      "...        ...              ...       ...    ...   \n",
      "101456  218144           iankki     25013      9   \n",
      "101457   29009              Elh      6634     10   \n",
      "101458   30106     brass2themax      6634      9   \n",
      "101459  304505           FrozYn      4548      2   \n",
      "101460  262452        SmokyChip     34561      8   \n",
      "\n",
      "                                                   scores  \\\n",
      "0       {'Overall': '8', 'Story': '8', 'Animation': '8...   \n",
      "1       {'Overall': '10', 'Story': '10', 'Animation': ...   \n",
      "2       {'Overall': '7', 'Story': '7', 'Animation': '9...   \n",
      "3       {'Overall': '9', 'Story': '9', 'Animation': '9...   \n",
      "4       {'Overall': '10', 'Story': '10', 'Animation': ...   \n",
      "...                                                   ...   \n",
      "101456  {'Overall': '9', 'Story': '9', 'Animation': '1...   \n",
      "101457  {'Overall': '10', 'Story': '10', 'Animation': ...   \n",
      "101458  {'Overall': '9', 'Story': '7', 'Animation': '1...   \n",
      "101459  {'Overall': '2', 'Story': '2', 'Animation': '5...   \n",
      "101460  {'Overall': '8', 'Story': '7', 'Animation': '1...   \n",
      "\n",
      "                                                 link  \n",
      "0       https://myanimelist.net/reviews.php?id=255938  \n",
      "1       https://myanimelist.net/reviews.php?id=259117  \n",
      "2       https://myanimelist.net/reviews.php?id=253664  \n",
      "3         https://myanimelist.net/reviews.php?id=8254  \n",
      "4       https://myanimelist.net/reviews.php?id=291149  \n",
      "...                                               ...  \n",
      "101456  https://myanimelist.net/reviews.php?id=218144  \n",
      "101457   https://myanimelist.net/reviews.php?id=29009  \n",
      "101458   https://myanimelist.net/reviews.php?id=30106  \n",
      "101459  https://myanimelist.net/reviews.php?id=304505  \n",
      "101460  https://myanimelist.net/reviews.php?id=262452  \n",
      "\n",
      "[101461 rows x 6 columns]\n",
      "         uid                                        title  \\\n",
      "0      28891                      Haikyuu!! Second Season   \n",
      "1      23273                      Shigatsu wa Kimi no Uso   \n",
      "2      34599                                Made in Abyss   \n",
      "3       5114             Fullmetal Alchemist: Brotherhood   \n",
      "4      31758             Kizumonogatari III: Reiketsu-hen   \n",
      "...      ...                                          ...   \n",
      "19306  32979                                Flip Flappers   \n",
      "19307    123                                Fushigi Yuugi   \n",
      "19308   1281                             Gakkou no Kaidan   \n",
      "19309    450  InuYasha Movie 2: Kagami no Naka no Mugenjo   \n",
      "19310     87     Mobile Suit Gundam: Char's Counterattack   \n",
      "\n",
      "                                                synopsis  \\\n",
      "0      Following their participation at the Inter-Hig...   \n",
      "1      Music accompanies the path of the human metron...   \n",
      "2      The Abyss—a gaping chasm stretching down into ...   \n",
      "3      \"In order for something to be obtained, someth...   \n",
      "4      After helping revive the legendary vampire Kis...   \n",
      "...                                                  ...   \n",
      "19306  Cocona is an average middle schooler living wi...   \n",
      "19307  While visiting the National Library, junior-hi...   \n",
      "19308  Years ago, all of the ghosts in a haunted scho...   \n",
      "19309  Inuyasha and company have finally destroyed Na...   \n",
      "19310  The year is Universal Century 0093. Char Aznab...   \n",
      "\n",
      "                                                   genre  \\\n",
      "0      ['Comedy', 'Sports', 'Drama', 'School', 'Shoun...   \n",
      "1      ['Drama', 'Music', 'Romance', 'School', 'Shoun...   \n",
      "2      ['Sci-Fi', 'Adventure', 'Mystery', 'Drama', 'F...   \n",
      "3      ['Action', 'Military', 'Adventure', 'Comedy', ...   \n",
      "4       ['Action', 'Mystery', 'Supernatural', 'Vampire']   \n",
      "...                                                  ...   \n",
      "19306         ['Sci-Fi', 'Adventure', 'Comedy', 'Magic']   \n",
      "19307  ['Adventure', 'Fantasy', 'Magic', 'Martial Art...   \n",
      "19308              ['Mystery', 'Horror', 'Supernatural']   \n",
      "19309  ['Action', 'Adventure', 'Comedy', 'Historical'...   \n",
      "19310  ['Military', 'Sci-Fi', 'Space', 'Drama', 'Mecha']   \n",
      "\n",
      "                              aired  episodes  members  popularity  ranked  \\\n",
      "0       Oct 4, 2015 to Mar 27, 2016      25.0   489888         141    25.0   \n",
      "1      Oct 10, 2014 to Mar 20, 2015      22.0   995473          28    24.0   \n",
      "2       Jul 7, 2017 to Sep 29, 2017      13.0   581663          98    23.0   \n",
      "3        Apr 5, 2009 to Jul 4, 2010      64.0  1615084           4     1.0   \n",
      "4                       Jan 6, 2017       1.0   214621         502    22.0   \n",
      "...                             ...       ...      ...         ...     ...   \n",
      "19306   Oct 6, 2016 to Dec 29, 2016      13.0   134252         843  1070.0   \n",
      "19307   Apr 6, 1995 to Mar 28, 1996      52.0    84407        1292  1071.0   \n",
      "19308  Oct 22, 2000 to Mar 25, 2001      19.0    83093        1314  1073.0   \n",
      "19309                  Dec 21, 2002       1.0    71989        1469  1077.0   \n",
      "19310                  Mar 12, 1988       1.0    29248        2604  1081.0   \n",
      "\n",
      "       score                                            img_url  \\\n",
      "0       8.82  https://cdn.myanimelist.net/images/anime/9/766...   \n",
      "1       8.83  https://cdn.myanimelist.net/images/anime/3/671...   \n",
      "2       8.83  https://cdn.myanimelist.net/images/anime/6/867...   \n",
      "3       9.23  https://cdn.myanimelist.net/images/anime/1223/...   \n",
      "4       8.83  https://cdn.myanimelist.net/images/anime/3/815...   \n",
      "...      ...                                                ...   \n",
      "19306   7.73  https://cdn.myanimelist.net/images/anime/4/822...   \n",
      "19307   7.73  https://cdn.myanimelist.net/images/anime/2/201...   \n",
      "19308   7.73  https://cdn.myanimelist.net/images/anime/9/183...   \n",
      "19309   7.73  https://cdn.myanimelist.net/images/anime/1162/...   \n",
      "19310   7.73  https://cdn.myanimelist.net/images/anime/1523/...   \n",
      "\n",
      "                                                    link  \n",
      "0      https://myanimelist.net/anime/28891/Haikyuu_Se...  \n",
      "1      https://myanimelist.net/anime/23273/Shigatsu_w...  \n",
      "2      https://myanimelist.net/anime/34599/Made_in_Abyss  \n",
      "3      https://myanimelist.net/anime/5114/Fullmetal_A...  \n",
      "4      https://myanimelist.net/anime/31758/Kizumonoga...  \n",
      "...                                                  ...  \n",
      "19306  https://myanimelist.net/anime/32979/Flip_Flappers  \n",
      "19307    https://myanimelist.net/anime/123/Fushigi_Yuugi  \n",
      "19308  https://myanimelist.net/anime/1281/Gakkou_no_K...  \n",
      "19309  https://myanimelist.net/anime/450/InuYasha_Mov...  \n",
      "19310  https://myanimelist.net/anime/87/Mobile_Suit_G...  \n",
      "\n",
      "[19311 rows x 12 columns]\n"
     ]
    }
   ],
   "source": [
    "# Why using ISO-8859-1?\n",
    "# Having invalid start byte (not utf-8 caharacters) \n",
    "reviews = pd.read_csv(\"data/reviews.csv\", encoding=\"ISO-8859-1\")\n",
    "print(reviews)\n",
    "\n",
    "animes = pd.read_csv(\"data/animes.csv\", encoding=\"utf-8\")\n",
    "print(animes)"
   ]
  },
  {
   "cell_type": "code",
   "execution_count": 90,
   "id": "4c63eb33-f8af-46e6-b8b3-07b9fe604ea3",
   "metadata": {},
   "outputs": [
    {
     "name": "stdout",
     "output_type": "stream",
     "text": [
      "                profile anime_uid rating\n",
      "0        DesolatePsyche     34096      8\n",
      "1             baekbeans     34599     10\n",
      "2                  skrn     28891      7\n",
      "3          edgewalker00      2904      9\n",
      "4       aManOfCulture99      4181     10\n",
      "...                 ...       ...    ...\n",
      "101456           iankki     25013      9\n",
      "101457              Elh      6634     10\n",
      "101458     brass2themax      6634      9\n",
      "101459           FrozYn      4548      2\n",
      "101460        SmokyChip     34561      8\n",
      "\n",
      "[99943 rows x 3 columns]\n"
     ]
    }
   ],
   "source": [
    "reviews = reviews[['profile', 'anime_uid', 'rating']].dropna()\n",
    "print(reviews)"
   ]
  },
  {
   "cell_type": "markdown",
   "id": "16b8a23b-a482-4a4b-8542-f30c9ca4ae54",
   "metadata": {},
   "source": [
    "## Check Data Format"
   ]
  },
  {
   "cell_type": "code",
   "execution_count": 99,
   "id": "bd3f51ae-1368-45a2-ac8c-182e82580414",
   "metadata": {},
   "outputs": [
    {
     "name": "stdout",
     "output_type": "stream",
     "text": [
      "0         34096\n",
      "1         34599\n",
      "2         28891\n",
      "3          2904\n",
      "4          4181\n",
      "          ...  \n",
      "101456    25013\n",
      "101457     6634\n",
      "101458     6634\n",
      "101459     4548\n",
      "101460    34561\n",
      "Name: anime_uid, Length: 99618, dtype: object\n",
      "-----------------------------------------------------\n",
      "0          8.0\n",
      "1         10.0\n",
      "2          7.0\n",
      "3          9.0\n",
      "4         10.0\n",
      "          ... \n",
      "101456     9.0\n",
      "101457    10.0\n",
      "101458     9.0\n",
      "101459     2.0\n",
      "101460     8.0\n",
      "Name: rating, Length: 99618, dtype: float64\n",
      "-----------------------------------------------------\n",
      "           uid          profile anime_uid  rating  \\\n",
      "0       255938   DesolatePsyche     34096     8.0   \n",
      "1       259117        baekbeans     34599    10.0   \n",
      "2       253664             skrn     28891     7.0   \n",
      "3         8254     edgewalker00      2904     9.0   \n",
      "4       291149  aManOfCulture99      4181    10.0   \n",
      "...        ...              ...       ...     ...   \n",
      "101456  218144           iankki     25013     9.0   \n",
      "101457   29009              Elh      6634    10.0   \n",
      "101458   30106     brass2themax      6634     9.0   \n",
      "101459  304505           FrozYn      4548     2.0   \n",
      "101460  262452        SmokyChip     34561     8.0   \n",
      "\n",
      "                                                   scores  \\\n",
      "0       {'Overall': '8', 'Story': '8', 'Animation': '8...   \n",
      "1       {'Overall': '10', 'Story': '10', 'Animation': ...   \n",
      "2       {'Overall': '7', 'Story': '7', 'Animation': '9...   \n",
      "3       {'Overall': '9', 'Story': '9', 'Animation': '9...   \n",
      "4       {'Overall': '10', 'Story': '10', 'Animation': ...   \n",
      "...                                                   ...   \n",
      "101456  {'Overall': '9', 'Story': '9', 'Animation': '1...   \n",
      "101457  {'Overall': '10', 'Story': '10', 'Animation': ...   \n",
      "101458  {'Overall': '9', 'Story': '7', 'Animation': '1...   \n",
      "101459  {'Overall': '2', 'Story': '2', 'Animation': '5...   \n",
      "101460  {'Overall': '8', 'Story': '7', 'Animation': '1...   \n",
      "\n",
      "                                                 link  \n",
      "0       https://myanimelist.net/reviews.php?id=255938  \n",
      "1       https://myanimelist.net/reviews.php?id=259117  \n",
      "2       https://myanimelist.net/reviews.php?id=253664  \n",
      "3         https://myanimelist.net/reviews.php?id=8254  \n",
      "4       https://myanimelist.net/reviews.php?id=291149  \n",
      "...                                               ...  \n",
      "101456  https://myanimelist.net/reviews.php?id=218144  \n",
      "101457   https://myanimelist.net/reviews.php?id=29009  \n",
      "101458   https://myanimelist.net/reviews.php?id=30106  \n",
      "101459  https://myanimelist.net/reviews.php?id=304505  \n",
      "101460  https://myanimelist.net/reviews.php?id=262452  \n",
      "\n",
      "[99618 rows x 6 columns]\n"
     ]
    }
   ],
   "source": [
    "reviews['anime_uid'] = reviews['anime_uid'].astype(str)\n",
    "reviews['rating'] = pd.to_numeric(reviews['rating'], errors='coerce')\n",
    "reviews = reviews.dropna(subset=['rating'])\n",
    "\n",
    "print(reviews['anime_uid'])\n",
    "print(\"-----------------------------------------------------\")\n",
    "print(reviews['rating'])\n",
    "print(\"-----------------------------------------------------\")\n",
    "print(reviews)"
   ]
  },
  {
   "cell_type": "markdown",
   "id": "f643fb67-7347-4694-a884-fa869df52e78",
   "metadata": {},
   "source": [
    "## Create each user data"
   ]
  },
  {
   "cell_type": "code",
   "execution_count": 100,
   "id": "c1134c36-c12d-4540-8d9e-dc54a936a642",
   "metadata": {},
   "outputs": [
    {
     "name": "stdout",
     "output_type": "stream",
     "text": [
      "Matrix shape: (36544, 4036)\n"
     ]
    }
   ],
   "source": [
    "user_item_matrix = reviews.pivot_table(\n",
    "    index='profile',\n",
    "    columns='anime_uid',\n",
    "    values='rating'\n",
    ").fillna(0)\n",
    "\n",
    "print(\"Matrix shape:\", user_item_matrix.shape)"
   ]
  },
  {
   "cell_type": "markdown",
   "id": "c238c9ff-4f7b-4bca-b872-6108db4d1ad1",
   "metadata": {},
   "source": [
    "## Calculate Similarity"
   ]
  },
  {
   "cell_type": "code",
   "execution_count": 101,
   "id": "d610386d-671b-4a23-b647-035afd0f93d4",
   "metadata": {},
   "outputs": [
    {
     "name": "stdout",
     "output_type": "stream",
     "text": [
      "anime_uid         1      1000     10012     10014      1002     10029  \\\n",
      "anime_uid                                                               \n",
      "1          1.000000  0.038940  0.009359  0.034822  0.012221  0.029365   \n",
      "1000       0.038940  1.000000  0.000000  0.000000  0.000000  0.000000   \n",
      "10012      0.009359  0.000000  1.000000  0.000000  0.013010  0.000000   \n",
      "10014      0.034822  0.000000  0.000000  1.000000  0.000000  0.000000   \n",
      "1002       0.012221  0.000000  0.013010  0.000000  1.000000  0.000000   \n",
      "...             ...       ...       ...       ...       ...       ...   \n",
      "9982       0.000000  0.000000  0.000000  0.000000  0.000000  0.000000   \n",
      "9988       0.000000  0.000000  0.000000  0.000000  0.000000  0.000000   \n",
      "9989       0.028265  0.032752  0.038412  0.000000  0.008034  0.003482   \n",
      "9990       0.000000  0.000000  0.000000  0.000000  0.000000  0.000000   \n",
      "9996       0.035741  0.000000  0.000000  0.194476  0.000000  0.000000   \n",
      "\n",
      "anime_uid     1003     10030  10043     10049  ...  9968      9969  997  9970  \\\n",
      "anime_uid                                      ...                              \n",
      "1          0.02404  0.000000    0.0  0.010019  ...   0.0  0.011682  0.0   0.0   \n",
      "1000       0.00000  0.000000    0.0  0.000000  ...   0.0  0.000000  0.0   0.0   \n",
      "10012      0.04948  0.000000    0.0  0.000000  ...   0.0  0.000000  0.0   0.0   \n",
      "10014      0.00000  0.000000    0.0  0.000000  ...   0.0  0.000000  0.0   0.0   \n",
      "1002       0.00000  0.039137    0.0  0.000000  ...   0.0  0.000000  0.0   0.0   \n",
      "...            ...       ...    ...       ...  ...   ...       ...  ...   ...   \n",
      "9982       0.00000  0.000000    0.0  0.000000  ...   0.0  0.000000  0.0   0.0   \n",
      "9988       0.00000  0.000000    0.0  0.000000  ...   0.0  0.000000  0.0   0.0   \n",
      "9989       0.00000  0.020767    0.0  0.007312  ...   0.0  0.006577  0.0   0.0   \n",
      "9990       0.00000  0.000000    0.0  0.000000  ...   0.0  0.000000  0.0   0.0   \n",
      "9996       0.00000  0.000000    0.0  0.000000  ...   0.0  0.000000  0.0   0.0   \n",
      "\n",
      "anime_uid       998  9982  9988      9989  9990      9996  \n",
      "anime_uid                                                  \n",
      "1          0.019412   0.0   0.0  0.028265   0.0  0.035741  \n",
      "1000       0.000000   0.0   0.0  0.032752   0.0  0.000000  \n",
      "10012      0.000000   0.0   0.0  0.038412   0.0  0.000000  \n",
      "10014      0.200684   0.0   0.0  0.000000   0.0  0.194476  \n",
      "1002       0.000000   0.0   0.0  0.008034   0.0  0.000000  \n",
      "...             ...   ...   ...       ...   ...       ...  \n",
      "9982       0.000000   1.0   0.0  0.000000   0.0  0.000000  \n",
      "9988       0.000000   0.0   1.0  0.000000   0.0  0.000000  \n",
      "9989       0.000000   0.0   0.0  1.000000   0.0  0.000000  \n",
      "9990       0.000000   0.0   0.0  0.000000   1.0  0.000000  \n",
      "9996       0.108412   0.0   0.0  0.000000   0.0  1.000000  \n",
      "\n",
      "[4036 rows x 4036 columns]\n"
     ]
    }
   ],
   "source": [
    "item_similarity = cosine_similarity(user_item_matrix.T)\n",
    "item_similarity_df = pd.DataFrame(\n",
    "    item_similarity,\n",
    "    index=user_item_matrix.columns,\n",
    "    columns=user_item_matrix.columns\n",
    ")\n",
    "\n",
    "print(item_similarity_df)"
   ]
  },
  {
   "cell_type": "markdown",
   "id": "f7e27417-0a11-437a-98a5-3256e506262c",
   "metadata": {},
   "source": [
    "## Make connect map from review to animes"
   ]
  },
  {
   "cell_type": "code",
   "execution_count": 115,
   "id": "c5c64505-66ee-401b-b58d-500f084028c3",
   "metadata": {},
   "outputs": [],
   "source": [
    "# To get anime title by using UID\n",
    "anime_map = dict(zip(animes['uid'].astype(str), animes['title']))"
   ]
  },
  {
   "cell_type": "markdown",
   "id": "5dd4914e-a72a-4e98-a9f5-c0db93ee7d19",
   "metadata": {},
   "source": [
    "## Recommender Function"
   ]
  },
  {
   "cell_type": "code",
   "execution_count": 118,
   "id": "82ecbdd2-8198-47a6-80c5-989b3c882b7a",
   "metadata": {},
   "outputs": [
    {
     "name": "stdout",
     "output_type": "stream",
     "text": [
      "Top 10 recommendations:\n",
      "1. To LOVE-Ru Darkness 2nd Specials (Score: 1.64)\n",
      "2. Kinnikuman II Sei (Score: 1.61)\n",
      "3. Kodomo no Jikan OVA (Score: 1.45)\n",
      "4. Magical Moe (Score: 1.30)\n",
      "5. Junai Maniac (Score: 1.28)\n",
      "6. Jungle Book Shounen Mowgli (Score: 1.26)\n",
      "7. Yuru Yuri Nachuyachumi!+ (Score: 1.01)\n",
      "8. Oni Chichi 2: Revenge (Score: 0.94)\n",
      "9. Itsuka Aeru Kimi ni (Score: 0.89)\n",
      "10. Happy Party Train (Score: 0.80)\n"
     ]
    }
   ],
   "source": [
    "def recommend_items(user_id, n=10):\n",
    "    if user_id not in user_item_matrix.index:\n",
    "        return \"User not found\"\n",
    "    \n",
    "    user_ratings = user_item_matrix.loc[user_id]\n",
    "    scores = item_similarity_df.dot(user_ratings) / item_similarity_df.sum(axis=1)\n",
    "    \n",
    "    # Filter out items the user has already rated\n",
    "    scores = scores[user_ratings == 0]\n",
    "    \n",
    "    # Take Top N\n",
    "    top_scores = scores.sort_values(ascending=False).head(n)\n",
    "    \n",
    "    # Format recommendations nicely\n",
    "    recommendations = []\n",
    "    for rank, (anime_id, score) in enumerate(top_scores.items(), start=1):\n",
    "        title = anime_map.get(anime_id, anime_id)\n",
    "        recommendations.append(f\"{rank}. {title} (Score: {score:.2f})\")\n",
    "    \n",
    "    return \"\\n\".join(recommendations)\n",
    "\n",
    "# Example\n",
    "recommendations = recommend_items(\"DesolatePsyche\", 10)\n",
    "print(\"Top 10 recommendations:\\n\" + recommendations)"
   ]
  },
  {
   "cell_type": "code",
   "execution_count": null,
   "id": "df2eb25d-514b-496e-9aba-0710698b8b2a",
   "metadata": {},
   "outputs": [],
   "source": []
  }
 ],
 "metadata": {
  "kernelspec": {
   "display_name": "Python [conda env:base] *",
   "language": "python",
   "name": "conda-base-py"
  },
  "language_info": {
   "codemirror_mode": {
    "name": "ipython",
    "version": 3
   },
   "file_extension": ".py",
   "mimetype": "text/x-python",
   "name": "python",
   "nbconvert_exporter": "python",
   "pygments_lexer": "ipython3",
   "version": "3.13.5"
  }
 },
 "nbformat": 4,
 "nbformat_minor": 5
}
