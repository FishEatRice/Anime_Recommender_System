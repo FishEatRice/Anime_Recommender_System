{
 "cells": [
  {
   "cell_type": "markdown",
   "id": "aaa6ab8e-3319-4e32-a082-83359d109ced",
   "metadata": {},
   "source": [
    "# Collarative Filtering - On"
   ]
  },
  {
   "cell_type": "markdown",
   "id": "90cb797c-f9dd-4989-a1c5-205cf3f63ded",
   "metadata": {},
   "source": [
    "# <u> Item-Based Collaborative Filtering </u>"
   ]
  },
  {
   "cell_type": "markdown",
   "id": "a7667794-55bc-4af8-b1f6-51667057705b",
   "metadata": {},
   "source": [
    "## Import libraries"
   ]
  },
  {
   "cell_type": "code",
   "execution_count": null,
   "id": "edb914b1-392a-4363-a2dd-096dd4d09758",
   "metadata": {},
   "outputs": [],
   "source": [
    "import pandas as pd\n",
    "from sklearn.metrics.pairwise import cosine_similarity\n",
    "from sklearn.metrics import mean_squared_error\n",
    "import numpy as np"
   ]
  },
  {
   "cell_type": "markdown",
   "id": "1f7a7db5-a021-49ea-9eaf-9e673e39bec0",
   "metadata": {},
   "source": [
    "## Read CSV"
   ]
  },
  {
   "cell_type": "code",
   "execution_count": null,
   "id": "6681e17b-de32-4cce-ab1d-f61055012f46",
   "metadata": {},
   "outputs": [],
   "source": [
    "# Why using ISO-8859-1?\n",
    "# Having invalid start byte (not utf-8 caharacters) \n",
    "reviews = pd.read_csv(\"data/reviews.csv\", encoding=\"ISO-8859-1\")\n",
    "print(reviews)\n",
    "\n",
    "print(\"-------------------------------------------------------------------------\")\n",
    "\n",
    "animes = pd.read_csv(\"data/animes.csv\", encoding=\"utf-8\")\n",
    "print(animes)"
   ]
  },
  {
   "cell_type": "markdown",
   "id": "3d3a63f3-652c-47c7-8aec-3420d11e20b8",
   "metadata": {},
   "source": [
    "## Keep only needed columns"
   ]
  },
  {
   "cell_type": "code",
   "execution_count": null,
   "id": "4c63eb33-f8af-46e6-b8b3-07b9fe604ea3",
   "metadata": {},
   "outputs": [],
   "source": [
    "reviews = reviews[['profile', 'anime_uid', 'rating']].dropna()\n",
    "print(reviews)\n",
    "\n",
    "print(\"---------------------------------------------------------\")\n",
    "animes = animes[['uid', 'title']]\n",
    "print(animes)"
   ]
  },
  {
   "cell_type": "markdown",
   "id": "f7e27417-0a11-437a-98a5-3256e506262c",
   "metadata": {},
   "source": [
    "## Make connect map from review to animes"
   ]
  },
  {
   "cell_type": "code",
   "execution_count": null,
   "id": "c5c64505-66ee-401b-b58d-500f084028c3",
   "metadata": {},
   "outputs": [],
   "source": [
    "# To get anime title by using UID\n",
    "anime_map = dict(zip(animes['uid'].astype(str), animes['title']))"
   ]
  },
  {
   "cell_type": "markdown",
   "id": "16b8a23b-a482-4a4b-8542-f30c9ca4ae54",
   "metadata": {},
   "source": [
    "## Replace Anime_UID with title"
   ]
  },
  {
   "cell_type": "code",
   "execution_count": null,
   "id": "bd3f51ae-1368-45a2-ac8c-182e82580414",
   "metadata": {},
   "outputs": [],
   "source": [
    "reviews['title'] = reviews['anime_uid'].astype(str).map(anime_map)\n",
    "\n",
    "# Drop missing titles\n",
    "reviews = reviews.dropna(subset=['title'])\n",
    "\n",
    "print(reviews)"
   ]
  },
  {
   "cell_type": "markdown",
   "id": "f643fb67-7347-4694-a884-fa869df52e78",
   "metadata": {},
   "source": [
    "## Create Anime x User Rating Matrix"
   ]
  },
  {
   "cell_type": "code",
   "execution_count": null,
   "id": "c1134c36-c12d-4540-8d9e-dc54a936a642",
   "metadata": {},
   "outputs": [],
   "source": [
    "reviews['rating'] = pd.to_numeric(reviews['rating'], errors='coerce')\n",
    "\n",
    "anime_user_matrix = reviews.pivot_table(\n",
    "    index='title', \n",
    "    columns='profile', \n",
    "    values='rating'\n",
    ").fillna(0)\n",
    "\n",
    "print(\"Matrix shape:\", anime_user_matrix.shape)"
   ]
  },
  {
   "cell_type": "markdown",
   "id": "c238c9ff-4f7b-4bca-b872-6108db4d1ad1",
   "metadata": {},
   "source": [
    "## Calculate Similarity"
   ]
  },
  {
   "cell_type": "code",
   "execution_count": null,
   "id": "d610386d-671b-4a23-b647-035afd0f93d4",
   "metadata": {
    "scrolled": true
   },
   "outputs": [],
   "source": [
    "anime_similarity = cosine_similarity(anime_user_matrix)\n",
    "anime_similarity_df = pd.DataFrame(\n",
    "    anime_similarity, \n",
    "    index=anime_user_matrix.index, \n",
    "    columns=anime_user_matrix.index\n",
    ")\n",
    "\n",
    "print(anime_similarity_df)"
   ]
  },
  {
   "cell_type": "markdown",
   "id": "5dd4914e-a72a-4e98-a9f5-c0db93ee7d19",
   "metadata": {},
   "source": [
    "## Recommender Function"
   ]
  },
  {
   "cell_type": "code",
   "execution_count": null,
   "id": "71b3e7ad-24ef-4f50-a946-66bd730a7917",
   "metadata": {},
   "outputs": [],
   "source": [
    "print(animes.columns)"
   ]
  },
  {
   "cell_type": "code",
   "execution_count": null,
   "id": "82ecbdd2-8198-47a6-80c5-989b3c882b7a",
   "metadata": {},
   "outputs": [],
   "source": [
    "def recommend_similar_anime(anime_title, n=10):\n",
    "    # Check the anime is in the df or not\n",
    "    if anime_title not in anime_similarity_df.index:\n",
    "        return pd.DataFrame(columns=[\"title\", \"similarity\", \"genre\", \"score\", \"synopsis\", \"link\"])\n",
    "\n",
    "    # Find Similarity\n",
    "    # drop - remove self\n",
    "    sim_scores = anime_similarity_df[anime_title].sort_values(ascending=False)\n",
    "    sim_scores = sim_scores.drop(anime_title)\n",
    "\n",
    "    # Get top - n\n",
    "    # Avoid having error in display (missing or wrong text)\n",
    "    top = sim_scores.head(n).reset_index() \n",
    "    top.columns = [\"title\", \"similarity\"]\n",
    "\n",
    "    # Get extra data\n",
    "    # Title, Genre, Score (Rating), Synopsis, Link\n",
    "    available_cols = [c for c in ['title','genre','score','synopsis','link'] if c in animes.columns]\n",
    "    anime_info = animes[available_cols].drop_duplicates(subset=\"title\")\n",
    "\n",
    "    # Combine similarity and Title\n",
    "    result = top.merge(anime_info, on=\"title\", how=\"left\")\n",
    "    return result\n",
    "\n",
    "# Example\n",
    "Anime_Selected = \"Toradora!\"\n",
    "print(\"Recommendations, if you choose\", Anime_Selected)\n",
    "print(recommend_similar_anime(Anime_Selected, 10))"
   ]
  },
  {
   "cell_type": "markdown",
   "id": "d510f6e3-7e62-486a-82f7-8705bca8eb28",
   "metadata": {},
   "source": [
    "# Full Version\n",
    "- Cosine Similarity\n",
    "- Item-Based Collaborative Filtering"
   ]
  },
  {
   "cell_type": "code",
   "execution_count": null,
   "id": "9b35968d-0a5c-4e4e-b565-64a186b9b039",
   "metadata": {},
   "outputs": [],
   "source": [
    "## Import libraries\n",
    "\n",
    "import pandas as pd\n",
    "from sklearn.metrics.pairwise import cosine_similarity\n",
    "from sklearn.metrics import mean_squared_error\n",
    "import numpy as np\n",
    "\n",
    "## Read CSV\n",
    "\n",
    "# Why using ISO-8859-1?\n",
    "# Having invalid start byte (not utf-8 caharacters) \n",
    "reviews = pd.read_csv(\"data/reviews.csv\", encoding=\"ISO-8859-1\")\n",
    "\n",
    "animes = pd.read_csv(\"data/animes.csv\", encoding=\"utf-8\")\n",
    "\n",
    "## Keep only needed columns\n",
    "\n",
    "reviews = reviews[['profile', 'anime_uid', 'rating']].dropna()\n",
    "animes = animes[['uid', 'title']]\n",
    "\n",
    "## Make connect map from review to animes\n",
    "\n",
    "# To get anime title by using UID\n",
    "anime_map = dict(zip(animes['uid'].astype(str), animes['title']))\n",
    "\n",
    "## Replace Anime_UID with title\n",
    "\n",
    "reviews['title'] = reviews['anime_uid'].astype(str).map(anime_map)\n",
    "\n",
    "# Drop missing titles\n",
    "reviews = reviews.dropna(subset=['title'])\n",
    "\n",
    "reviews['rating'] = pd.to_numeric(reviews['rating'], errors='coerce')\n",
    "\n",
    "anime_user_matrix = reviews.pivot_table(\n",
    "    index='title', \n",
    "    columns='profile', \n",
    "    values='rating'\n",
    ").fillna(0)\n",
    "\n",
    "anime_similarity = cosine_similarity(anime_user_matrix)\n",
    "anime_similarity_df = pd.DataFrame(\n",
    "    anime_similarity, \n",
    "    index=anime_user_matrix.index, \n",
    "    columns=anime_user_matrix.index\n",
    ")\n",
    "\n",
    "## Recommender Function\n",
    "\n",
    "def recommend_similar_anime(anime_title, n=10):\n",
    "    # Check the anime is in the df or not\n",
    "    if anime_title not in anime_similarity_df.index:\n",
    "        return pd.DataFrame(columns=[\"title\", \"similarity\", \"genre\", \"score\", \"synopsis\", \"link\"])\n",
    "\n",
    "    # Find Similarity\n",
    "    # drop - remove self\n",
    "    sim_scores = anime_similarity_df[anime_title].sort_values(ascending=False)\n",
    "    sim_scores = sim_scores.drop(anime_title)\n",
    "\n",
    "    # Get top - n\n",
    "    # Avoid having error in display (missing or wrong text)\n",
    "    top = sim_scores.head(n).reset_index() \n",
    "    top.columns = [\"title\", \"similarity\"]\n",
    "\n",
    "    # Get extra data\n",
    "    # Title, Genre, Score (Rating), Synopsis, Link\n",
    "    available_cols = [c for c in ['title','genre','score','synopsis','link'] if c in animes.columns]\n",
    "    anime_info = animes[available_cols].drop_duplicates(subset=\"title\")\n",
    "\n",
    "    # Combine similarity and Title\n",
    "    result = top.merge(anime_info, on=\"title\", how=\"left\")\n",
    "    return result\n",
    "\n",
    "# Example\n",
    "Anime_Selected = \"Toradora!\"\n",
    "print(\"Recommendations, if you choose\", Anime_Selected)\n",
    "print(recommend_similar_anime(Anime_Selected, 10))"
   ]
  },
  {
   "cell_type": "markdown",
   "id": "e0a22b1d-af9a-4f2d-99bf-bb2f534323f4",
   "metadata": {},
   "source": [
    "# <u> User-Based Collaborative Filtering </u>"
   ]
  },
  {
   "cell_type": "code",
   "execution_count": 208,
   "id": "9c812f65-f05f-40a0-b7f8-9476ea0ed9c5",
   "metadata": {
    "scrolled": true
   },
   "outputs": [
    {
     "name": "stdout",
     "output_type": "stream",
     "text": [
      "                                               title  score\n",
      "0  Shuumatsu Nani Shitemasu ka? Isogashii Desu ka...   2.12\n",
      "1                                 Shokugeki no Souma   1.68\n",
      "2                                            Another   1.03\n",
      "3                        Shingeki! Kyojin Chuugakkou   0.71\n",
      "4                     Fairy Tail Movie 2: Dragon Cry   0.71\n"
     ]
    }
   ],
   "source": [
    "import pandas as pd\n",
    "from sklearn.metrics.pairwise import cosine_similarity\n",
    "\n",
    "# 1. Load data\n",
    "df = pd.read_csv(\"data/reviews.csv\", encoding=\"ISO-8859-1\")\n",
    "anime_df = pd.read_csv(\"data/animes.csv\", encoding=\"utf-8\")\n",
    "\n",
    "# 2. 清洗用户评分数据\n",
    "df = df[['profile', 'anime_uid', 'rating']].rename(columns={\n",
    "    'profile': 'user_id',\n",
    "    'anime_uid': 'anime_id'\n",
    "})\n",
    "df['rating'] = pd.to_numeric(df['rating'], errors='coerce')\n",
    "df = df.dropna(subset=['rating'])\n",
    "\n",
    "# 3. 创建用户-动漫评分矩阵\n",
    "user_anime_matrix = df.pivot_table(index='user_id', columns='anime_id', values='rating')\n",
    "user_anime_matrix = user_anime_matrix.fillna(0)\n",
    "\n",
    "# 4. 计算用户相似度（余弦相似度）\n",
    "user_similarity = cosine_similarity(user_anime_matrix)\n",
    "user_similarity_df = pd.DataFrame(user_similarity, index=user_anime_matrix.index, columns=user_anime_matrix.index)\n",
    "\n",
    "# 5. 清洗 anime 数据，确保 UID 是唯一且为 int 类型\n",
    "anime_df['uid'] = pd.to_numeric(anime_df['uid'], errors='coerce')\n",
    "anime_df = anime_df.dropna(subset=['uid'])\n",
    "anime_df['uid'] = anime_df['uid'].astype(int)\n",
    "anime_df = anime_df.drop_duplicates(subset='uid')  # ✅ 避免推荐重复标题\n",
    "\n",
    "# 6. 推荐函数\n",
    "def recommend_anime_for_user(target_user_id, top_k_similar_users=5, top_n_recommendations=5):\n",
    "    if target_user_id not in user_anime_matrix.index:\n",
    "        return f\"❌ 用户 {target_user_id} 不存在。\"\n",
    "\n",
    "    # 找到最相似的前 K 个用户\n",
    "    similar_users = user_similarity_df[target_user_id].drop(index=target_user_id).sort_values(ascending=False)\n",
    "    top_similar_users = similar_users.head(top_k_similar_users)\n",
    "\n",
    "    # 获取目标用户已经看过的 anime_id\n",
    "    watched = user_anime_matrix.loc[target_user_id]\n",
    "    watched_anime_ids = watched[watched > 0].index.tolist()\n",
    "\n",
    "    # 计算加权推荐分数\n",
    "    scores = pd.Series(dtype=float)\n",
    "    for other_user, sim_score in top_similar_users.items():\n",
    "        other_ratings = user_anime_matrix.loc[other_user]\n",
    "        for anime_id in user_anime_matrix.columns:\n",
    "            if anime_id not in watched_anime_ids:\n",
    "                scores[anime_id] = scores.get(anime_id, 0) + other_ratings[anime_id] * sim_score\n",
    "\n",
    "    if scores.empty:\n",
    "        return \"⚠️ 没有找到任何可以推荐的动漫。\"\n",
    "\n",
    "    # 创建推荐列表\n",
    "    recommendations_df = scores.sort_values(ascending=False).head(top_n_recommendations).reset_index().round(2)\n",
    "    recommendations_df.columns = ['uid', 'score']\n",
    "    recommendations_df['uid'] = pd.to_numeric(recommendations_df['uid'], errors='coerce').astype(int)\n",
    "\n",
    "    # 合并标题信息\n",
    "    merged = pd.merge(recommendations_df, anime_df[['uid', 'title', 'img_url', 'link']], on='uid', how='left')\n",
    "    merged = merged.dropna(subset=['title'])  # 有些 uid 可能在 anime_df 没找到，过滤掉\n",
    "    merged = merged.drop_duplicates(subset='title')  # 再次保险过滤重复标题\n",
    "\n",
    "    return merged[['title', 'score']].reset_index(drop=True)\n",
    "\n",
    "# ✅ 示例调用：为用户 DesolatePsyche 推荐动漫\n",
    "print(recommend_anime_for_user(\"DesolatePsyche\"))\n"
   ]
  },
  {
   "cell_type": "code",
   "execution_count": null,
   "id": "3dc1f227-96b9-4552-8e5d-170e8348efb0",
   "metadata": {},
   "outputs": [],
   "source": []
  }
 ],
 "metadata": {
  "kernelspec": {
   "display_name": "Python [conda env:base] *",
   "language": "python",
   "name": "conda-base-py"
  },
  "language_info": {
   "codemirror_mode": {
    "name": "ipython",
    "version": 3
   },
   "file_extension": ".py",
   "mimetype": "text/x-python",
   "name": "python",
   "nbconvert_exporter": "python",
   "pygments_lexer": "ipython3",
   "version": "3.13.5"
  }
 },
 "nbformat": 4,
 "nbformat_minor": 5
}
