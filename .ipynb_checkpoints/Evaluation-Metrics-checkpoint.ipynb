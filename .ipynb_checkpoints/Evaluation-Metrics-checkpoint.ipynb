{
 "cells": [
  {
   "cell_type": "markdown",
   "id": "ad8716df-09ea-4159-ae30-7393eb76c5b5",
   "metadata": {},
   "source": [
    "# Setup"
   ]
  },
  {
   "cell_type": "code",
   "execution_count": 2,
   "id": "3738be09-63d8-4ff8-98df-66e671ea9ef8",
   "metadata": {},
   "outputs": [
    {
     "name": "stdout",
     "output_type": "stream",
     "text": [
      "Done\n"
     ]
    }
   ],
   "source": [
    "## Import libraries\n",
    "\n",
    "import pandas as pd\n",
    "from sklearn.metrics.pairwise import cosine_similarity\n",
    "from sklearn.metrics import mean_squared_error\n",
    "import numpy as np\n",
    "\n",
    "## Read CSV\n",
    "\n",
    "# Why using ISO-8859-1?\n",
    "# Having invalid start byte (not utf-8 caharacters) \n",
    "reviews = pd.read_csv(\"data/reviews.csv\", encoding=\"ISO-8859-1\")\n",
    "\n",
    "animes = pd.read_csv(\"data/animes.csv\", encoding=\"utf-8\")\n",
    "\n",
    "## Keep only needed columns\n",
    "\n",
    "reviews = reviews[['profile', 'anime_uid', 'rating']].dropna()\n",
    "animes = animes[['uid', 'title']]\n",
    "\n",
    "## Make connect map from review to animes\n",
    "\n",
    "# To get anime title by using UID\n",
    "anime_map = dict(zip(animes['uid'].astype(str), animes['title']))\n",
    "\n",
    "## Replace Anime_UID with title\n",
    "\n",
    "reviews['title'] = reviews['anime_uid'].astype(str).map(anime_map)\n",
    "\n",
    "# Drop missing titles\n",
    "reviews = reviews.dropna(subset=['title'])\n",
    "\n",
    "reviews['rating'] = pd.to_numeric(reviews['rating'], errors='coerce')\n",
    "\n",
    "anime_user_matrix = reviews.pivot_table(\n",
    "    index='title', \n",
    "    columns='profile', \n",
    "    values='rating'\n",
    ").fillna(0)\n",
    "\n",
    "anime_similarity = cosine_similarity(anime_user_matrix)\n",
    "anime_similarity_df = pd.DataFrame(\n",
    "    anime_similarity, \n",
    "    index=anime_user_matrix.index, \n",
    "    columns=anime_user_matrix.index\n",
    ")\n",
    "\n",
    "print(\"Setup - Done\")"
   ]
  },
  {
   "cell_type": "markdown",
   "id": "1a73b3c7-8e76-42b5-a218-200aca8c3089",
   "metadata": {},
   "source": [
    "# Precision/Recall/F1"
   ]
  },
  {
   "cell_type": "code",
   "execution_count": 15,
   "id": "5f888b7f-3868-4eae-b50c-5782f88fb27b",
   "metadata": {},
   "outputs": [
    {
     "name": "stdout",
     "output_type": "stream",
     "text": [
      "Precision: 1.0\n",
      "Recall: 0.16486005500728038\n",
      "F1: 0.28305555555555556\n"
     ]
    }
   ],
   "source": [
    "from sklearn.model_selection import train_test_split\n",
    "from sklearn.metrics import precision_score, recall_score, f1_score\n",
    "import random\n",
    "\n",
    "random.seed(42)\n",
    "np.random.seed(42)\n",
    "\n",
    "def leave_one_out_split(reviews):\n",
    "    train, test = [], []\n",
    "    for user, group in reviews.groupby(\"profile\"):\n",
    "        if len(group) < 2:  # 只有一条评分的用户直接全放训练集\n",
    "            train.extend(group.to_dict(\"records\"))\n",
    "            continue\n",
    "        # 随机抽 1 条作为测试，其余作为训练\n",
    "        test_idx = random.choice(range(len(group)))\n",
    "        for i, row in enumerate(group.to_dict(\"records\")):\n",
    "            if i == test_idx:\n",
    "                test.append(row)\n",
    "            else:\n",
    "                train.append(row)\n",
    "    return pd.DataFrame(train), pd.DataFrame(test)\n",
    "\n",
    "def get_recommendations(anime_title, similarity_df, top_n=10):\n",
    "    if anime_title not in similarity_df.index:\n",
    "        return []\n",
    "    sim_scores = similarity_df[anime_title].sort_values(ascending=False)\n",
    "    return sim_scores.index[1:top_n+1].tolist()\n",
    "\n",
    "\n",
    "def evaluate(reviews, anime_similarity_df, threshold=7, top_n=10):\n",
    "    train, test = leave_one_out_split(reviews)\n",
    "\n",
    "    y_true, y_pred = [], []\n",
    "\n",
    "    for user, group in test.groupby(\"profile\"):\n",
    "        liked_animes = set(group[group[\"rating\"] >= threshold][\"title\"])\n",
    "        if not liked_animes:\n",
    "            continue\n",
    "\n",
    "        # 训练集里用户喜欢的作品作为推荐起点\n",
    "        user_train_likes = train[(train[\"profile\"] == user) & (train[\"rating\"] >= threshold)][\"title\"].tolist()\n",
    "        if not user_train_likes:\n",
    "            continue\n",
    "\n",
    "        recommended = set()\n",
    "        for anime in user_train_likes:\n",
    "            recommended.update(get_recommendations(anime, anime_similarity_df, top_n=top_n))\n",
    "\n",
    "        # ground truth\n",
    "        for anime in liked_animes:\n",
    "            y_true.append(1)\n",
    "            y_pred.append(1 if anime in recommended else 0)\n",
    "\n",
    "    precision = precision_score(y_true, y_pred)\n",
    "    recall = recall_score(y_true, y_pred)\n",
    "    f1 = f1_score(y_true, y_pred)\n",
    "\n",
    "    return precision, recall, f1\n",
    "\n",
    "precision, recall, f1 = evaluate(reviews, anime_similarity_df, threshold=7, top_n=10)\n",
    "print(\"Precision:\", precision)\n",
    "print(\"Recall:\", recall)\n",
    "print(\"F1:\", f1)"
   ]
  },
  {
   "cell_type": "markdown",
   "id": "a1cc952c-9f03-4a66-9860-6f3ef7dd0d30",
   "metadata": {},
   "source": [
    "# Get RMSE"
   ]
  },
  {
   "cell_type": "code",
   "execution_count": 16,
   "id": "0fcf4b98-1d20-4618-a989-a1b382fc3d20",
   "metadata": {},
   "outputs": [
    {
     "name": "stdout",
     "output_type": "stream",
     "text": [
      "MSE: 4.997104233661449\n",
      "RMSE: 2.235420370682313\n"
     ]
    }
   ],
   "source": [
    "from sklearn.metrics import mean_squared_error\n",
    "import numpy as np\n",
    "\n",
    "def evaluate_rmse(reviews, similarity_df, test_size=0.2):\n",
    "    # 这里还是你之前的 train/test split 和预测逻辑...\n",
    "    train, test = [], []\n",
    "    for user, group in reviews.groupby(\"profile\"):\n",
    "        if len(group) < 2:\n",
    "            train.extend(group.to_dict(\"records\"))\n",
    "            continue\n",
    "        test_idx = np.random.choice(range(len(group)), size=max(1, int(len(group) * test_size)), replace=False)\n",
    "        for i, row in enumerate(group.to_dict(\"records\")):\n",
    "            if i in test_idx:\n",
    "                test.append(row)\n",
    "            else:\n",
    "                train.append(row)\n",
    "    \n",
    "    train = pd.DataFrame(train)\n",
    "    test = pd.DataFrame(test)\n",
    "\n",
    "    y_true, y_pred = [], []\n",
    "    for _, row in test.iterrows():\n",
    "        pred = predict_rating(row[\"profile\"], row[\"title\"], train, similarity_df)\n",
    "        if not np.isnan(pred):\n",
    "            y_true.append(row[\"rating\"])\n",
    "            y_pred.append(pred)\n",
    "\n",
    "    # 手动算 RMSE\n",
    "    mse = mean_squared_error(y_true, y_pred)\n",
    "    rmse = np.sqrt(mse)\n",
    "    return mse, rmse\n",
    "\n",
    "# 调用\n",
    "mse, rmse = evaluate_rmse(reviews, anime_similarity_df, test_size=0.2)\n",
    "print(\"MSE:\", mse)\n",
    "print(\"RMSE:\", rmse)"
   ]
  },
  {
   "cell_type": "markdown",
   "id": "df8c2b8d-2628-44d8-a162-1f1c9ead8957",
   "metadata": {},
   "source": [
    "# Overall"
   ]
  },
  {
   "cell_type": "markdown",
   "id": "bb7a6f2b-c9fa-448b-92cf-7e2cc080d994",
   "metadata": {},
   "source": [
    "1. Precision = 1.0\n",
    "- Almost all recommended anime were truly liked by users.\n",
    "- The system did not include unrelated anime.\n",
    "\n",
    "2. Recall ≈ 0.165\n",
    "- Only around 16.5% of the anime that users actually liked were recommended.\n",
    "- System’s coverage is relatively low.\n",
    "\n",
    "3. F1 ≈ 0.283\n",
    "- The F1 score reflects a balance between Precision and Recall.\n",
    "- Although recommendations are highly accurate\n",
    "- System cannot capture all of the user’s preferences.\n",
    "\n",
    "4. MSE ≈ 5.00 & RMSE ≈ 2.24\n",
    "- The difference between predicted and actual ratings is about 2.2 points on a 10-point scale.\n",
    "- Rating prediction performance is only moderate\n",
    "- The error is relatively large."
   ]
  }
 ],
 "metadata": {
  "kernelspec": {
   "display_name": "Python [conda env:base] *",
   "language": "python",
   "name": "conda-base-py"
  },
  "language_info": {
   "codemirror_mode": {
    "name": "ipython",
    "version": 3
   },
   "file_extension": ".py",
   "mimetype": "text/x-python",
   "name": "python",
   "nbconvert_exporter": "python",
   "pygments_lexer": "ipython3",
   "version": "3.13.5"
  }
 },
 "nbformat": 4,
 "nbformat_minor": 5
}
