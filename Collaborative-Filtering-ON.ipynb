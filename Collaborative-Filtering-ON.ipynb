{
 "cells": [
  {
   "cell_type": "markdown",
   "id": "aaa6ab8e-3319-4e32-a082-83359d109ced",
   "metadata": {},
   "source": [
    "# Collarative Filtering - On"
   ]
  },
  {
   "cell_type": "markdown",
   "id": "90cb797c-f9dd-4989-a1c5-205cf3f63ded",
   "metadata": {},
   "source": [
    "# <u> Item-Based Collaborative Filtering </u>"
   ]
  },
  {
   "cell_type": "markdown",
   "id": "a7667794-55bc-4af8-b1f6-51667057705b",
   "metadata": {},
   "source": [
    "## Import libraries"
   ]
  },
  {
   "cell_type": "code",
   "execution_count": null,
   "id": "edb914b1-392a-4363-a2dd-096dd4d09758",
   "metadata": {},
   "outputs": [],
   "source": [
    "import pandas as pd\n",
    "from sklearn.metrics.pairwise import cosine_similarity\n",
    "from sklearn.metrics import mean_squared_error\n",
    "import numpy as np"
   ]
  },
  {
   "cell_type": "markdown",
   "id": "1f7a7db5-a021-49ea-9eaf-9e673e39bec0",
   "metadata": {},
   "source": [
    "## Read CSV"
   ]
  },
  {
   "cell_type": "code",
   "execution_count": null,
   "id": "6681e17b-de32-4cce-ab1d-f61055012f46",
   "metadata": {},
   "outputs": [],
   "source": [
    "# Why using ISO-8859-1?\n",
    "# Having invalid start byte (not utf-8 caharacters) \n",
    "reviews = pd.read_csv(\"data/reviews.csv\", encoding=\"ISO-8859-1\")\n",
    "print(reviews)\n",
    "\n",
    "print(\"-------------------------------------------------------------------------\")\n",
    "\n",
    "animes = pd.read_csv(\"data/animes.csv\", encoding=\"utf-8\")\n",
    "print(animes)"
   ]
  },
  {
   "cell_type": "markdown",
   "id": "3d3a63f3-652c-47c7-8aec-3420d11e20b8",
   "metadata": {},
   "source": [
    "## Keep only needed columns"
   ]
  },
  {
   "cell_type": "code",
   "execution_count": null,
   "id": "4c63eb33-f8af-46e6-b8b3-07b9fe604ea3",
   "metadata": {},
   "outputs": [],
   "source": [
    "reviews = reviews[['profile', 'anime_uid', 'rating']].dropna()\n",
    "print(reviews)\n",
    "\n",
    "print(\"---------------------------------------------------------\")\n",
    "animes = animes[['uid', 'title']]\n",
    "print(animes)"
   ]
  },
  {
   "cell_type": "markdown",
   "id": "f7e27417-0a11-437a-98a5-3256e506262c",
   "metadata": {},
   "source": [
    "## Make connect map from review to animes"
   ]
  },
  {
   "cell_type": "code",
   "execution_count": null,
   "id": "c5c64505-66ee-401b-b58d-500f084028c3",
   "metadata": {},
   "outputs": [],
   "source": [
    "# To get anime title by using UID\n",
    "anime_map = dict(zip(animes['uid'].astype(str), animes['title']))"
   ]
  },
  {
   "cell_type": "markdown",
   "id": "16b8a23b-a482-4a4b-8542-f30c9ca4ae54",
   "metadata": {},
   "source": [
    "## Replace Anime_UID with title"
   ]
  },
  {
   "cell_type": "code",
   "execution_count": null,
   "id": "bd3f51ae-1368-45a2-ac8c-182e82580414",
   "metadata": {},
   "outputs": [],
   "source": [
    "reviews['title'] = reviews['anime_uid'].astype(str).map(anime_map)\n",
    "\n",
    "# Drop missing titles\n",
    "reviews = reviews.dropna(subset=['title'])\n",
    "\n",
    "print(reviews)"
   ]
  },
  {
   "cell_type": "markdown",
   "id": "f643fb67-7347-4694-a884-fa869df52e78",
   "metadata": {},
   "source": [
    "## Create Anime x User Rating Matrix"
   ]
  },
  {
   "cell_type": "code",
   "execution_count": null,
   "id": "c1134c36-c12d-4540-8d9e-dc54a936a642",
   "metadata": {},
   "outputs": [],
   "source": [
    "reviews['rating'] = pd.to_numeric(reviews['rating'], errors='coerce')\n",
    "\n",
    "anime_user_matrix = reviews.pivot_table(\n",
    "    index='title', \n",
    "    columns='profile', \n",
    "    values='rating'\n",
    ").fillna(0)\n",
    "\n",
    "print(\"Matrix shape:\", anime_user_matrix.shape)"
   ]
  },
  {
   "cell_type": "markdown",
   "id": "c238c9ff-4f7b-4bca-b872-6108db4d1ad1",
   "metadata": {},
   "source": [
    "## Calculate Similarity"
   ]
  },
  {
   "cell_type": "code",
   "execution_count": null,
   "id": "d610386d-671b-4a23-b647-035afd0f93d4",
   "metadata": {
    "scrolled": true
   },
   "outputs": [],
   "source": [
    "anime_similarity = cosine_similarity(anime_user_matrix)\n",
    "anime_similarity_df = pd.DataFrame(\n",
    "    anime_similarity, \n",
    "    index=anime_user_matrix.index, \n",
    "    columns=anime_user_matrix.index\n",
    ")\n",
    "\n",
    "print(anime_similarity_df)"
   ]
  },
  {
   "cell_type": "markdown",
   "id": "5dd4914e-a72a-4e98-a9f5-c0db93ee7d19",
   "metadata": {},
   "source": [
    "## Recommender Function"
   ]
  },
  {
   "cell_type": "code",
   "execution_count": null,
   "id": "71b3e7ad-24ef-4f50-a946-66bd730a7917",
   "metadata": {},
   "outputs": [],
   "source": [
    "print(animes.columns)"
   ]
  },
  {
   "cell_type": "code",
   "execution_count": null,
   "id": "82ecbdd2-8198-47a6-80c5-989b3c882b7a",
   "metadata": {},
   "outputs": [],
   "source": [
    "def recommend_similar_anime(anime_title, n=10):\n",
    "    # Check the anime is in the df or not\n",
    "    if anime_title not in anime_similarity_df.index:\n",
    "        return pd.DataFrame(columns=[\"title\", \"similarity\", \"genre\", \"score\", \"synopsis\", \"link\"])\n",
    "\n",
    "    # Find Similarity\n",
    "    # drop - remove self\n",
    "    sim_scores = anime_similarity_df[anime_title].sort_values(ascending=False)\n",
    "    sim_scores = sim_scores.drop(anime_title)\n",
    "\n",
    "    # Get top - n\n",
    "    # Avoid having error in display (missing or wrong text)\n",
    "    top = sim_scores.head(n).reset_index() \n",
    "    top.columns = [\"title\", \"similarity\"]\n",
    "\n",
    "    # Get extra data\n",
    "    # Title, Genre, Score (Rating), Synopsis, Link\n",
    "    available_cols = [c for c in ['title','genre','score','synopsis','link'] if c in animes.columns]\n",
    "    anime_info = animes[available_cols].drop_duplicates(subset=\"title\")\n",
    "\n",
    "    # Combine similarity and Title\n",
    "    result = top.merge(anime_info, on=\"title\", how=\"left\")\n",
    "    return result\n",
    "\n",
    "# Example\n",
    "Anime_Selected = \"Toradora!\"\n",
    "print(\"Item-Based Collaborative Filtering, if you choose\", Anime_Selected)\n",
    "print(recommend_similar_anime(Anime_Selected, 10))"
   ]
  },
  {
   "cell_type": "markdown",
   "id": "d510f6e3-7e62-486a-82f7-8705bca8eb28",
   "metadata": {},
   "source": [
    "# Setup\n",
    "- Cosine Similarity"
   ]
  },
  {
   "cell_type": "code",
   "execution_count": null,
   "id": "9b35968d-0a5c-4e4e-b565-64a186b9b039",
   "metadata": {},
   "outputs": [],
   "source": [
    "## Import libraries\n",
    "\n",
    "import pandas as pd\n",
    "from sklearn.metrics.pairwise import cosine_similarity\n",
    "from sklearn.metrics import mean_squared_error\n",
    "import numpy as np\n",
    "\n",
    "## Read CSV\n",
    "\n",
    "# Why using ISO-8859-1?\n",
    "# Having invalid start byte (not utf-8 caharacters) \n",
    "reviews = pd.read_csv(\"data/reviews.csv\", encoding=\"ISO-8859-1\")\n",
    "\n",
    "animes = pd.read_csv(\"data/animes.csv\", encoding=\"utf-8\")\n",
    "\n",
    "## Keep only needed columns\n",
    "\n",
    "reviews = reviews[['profile', 'anime_uid', 'rating']].dropna()\n",
    "animes = animes[['uid', 'title']]\n",
    "\n",
    "## Make connect map from review to animes\n",
    "\n",
    "# To get anime title by using UID\n",
    "anime_map = dict(zip(animes['uid'].astype(str), animes['title']))\n",
    "\n",
    "## Replace Anime_UID with title\n",
    "\n",
    "reviews['title'] = reviews['anime_uid'].astype(str).map(anime_map)\n",
    "\n",
    "# Drop missing titles\n",
    "reviews = reviews.dropna(subset=['title'])\n",
    "\n",
    "reviews['rating'] = pd.to_numeric(reviews['rating'], errors='coerce')\n",
    "\n",
    "anime_user_matrix = reviews.pivot_table(\n",
    "    index='title', \n",
    "    columns='profile', \n",
    "    values='rating'\n",
    ").fillna(0)\n",
    "\n",
    "anime_similarity = cosine_similarity(anime_user_matrix)\n",
    "anime_similarity_df = pd.DataFrame(\n",
    "    anime_similarity, \n",
    "    index=anime_user_matrix.index, \n",
    "    columns=anime_user_matrix.index\n",
    ")"
   ]
  },
  {
   "cell_type": "markdown",
   "id": "19cd365a-4db0-4203-b4e6-802260e16116",
   "metadata": {},
   "source": [
    "### Function\n",
    "- Item-Based Collaborative Filtering"
   ]
  },
  {
   "cell_type": "code",
   "execution_count": 51,
   "id": "32739ff5-aa04-44f5-8fba-4744f43f03eb",
   "metadata": {},
   "outputs": [],
   "source": [
    "def recommend_based_on_anime_genre(anime_title, n=10):\n",
    "    # Check the anime is in the df or not\n",
    "    if anime_title not in anime_similarity_df.index:\n",
    "        return pd.DataFrame(columns=[\"title\", \"similarity\", \"genre\", \"score\", \"synopsis\", \"link\"])\n",
    "\n",
    "    # Find Similarity\n",
    "    # drop - remove self\n",
    "    sim_scores = anime_similarity_df[anime_title].sort_values(ascending=False)\n",
    "    sim_scores = sim_scores.drop(anime_title)\n",
    "\n",
    "    # Get top - n\n",
    "    # Avoid having error in display (missing or wrong text)\n",
    "    top = sim_scores.head(n).reset_index() \n",
    "    top.columns = [\"title\", \"similarity\"]\n",
    "\n",
    "    # Get extra data\n",
    "    # Title, Genre, Score (Rating), Synopsis, Link\n",
    "    available_cols = [c for c in ['title','genre','score','synopsis','link'] if c in animes.columns]\n",
    "    anime_info = animes[available_cols].drop_duplicates(subset=\"title\")\n",
    "\n",
    "    # Combine similarity and Title\n",
    "    result = top.merge(anime_info, on=\"title\", how=\"left\")\n",
    "    return result"
   ]
  },
  {
   "cell_type": "markdown",
   "id": "acedaa13-15cd-479d-872f-eb05fdd9abf8",
   "metadata": {},
   "source": [
    "### Try Run Item-Based Collaborative Filtering"
   ]
  },
  {
   "cell_type": "code",
   "execution_count": null,
   "id": "3caa0c09-225c-41e2-b436-05ff088c450c",
   "metadata": {},
   "outputs": [],
   "source": [
    "Anime_Selected = \"Another\"\n",
    "print(\"Item-Based Collaborative Filtering, if you choose\", Anime_Selected)\n",
    "print(recommend_similar_anime(Anime_Selected, 10))"
   ]
  },
  {
   "cell_type": "markdown",
   "id": "e0a22b1d-af9a-4f2d-99bf-bb2f534323f4",
   "metadata": {},
   "source": [
    "# <u> User-Based Collaborative Filtering </u>"
   ]
  },
  {
   "cell_type": "markdown",
   "id": "f111295f-f4b7-4474-bdde-2a7f2681de3c",
   "metadata": {},
   "source": [
    "### Function\n",
    "- User-Based Collaborative Filtering"
   ]
  },
  {
   "cell_type": "code",
   "execution_count": null,
   "id": "3dc1f227-96b9-4552-8e5d-170e8348efb0",
   "metadata": {},
   "outputs": [],
   "source": [
    "def recommend_based_on_anime_viewers(anime_titles, top_n_recommendations=10):\n",
    "    \n",
    "    # Find related anime_id\n",
    "    anime_ids = []\n",
    "    for title in anime_titles:\n",
    "        anime_row = anime_df[anime_df['title'].str.lower() == title.lower()]\n",
    "        if anime_row.empty:\n",
    "            return f\"❌ {title} not found.\"\n",
    "        anime_ids.append(anime_row['uid'].values[0])\n",
    "\n",
    "    # Set all anime id to Int64\n",
    "    df['anime_id'] = pd.to_numeric(df['anime_id'], errors='coerce').astype('Int64')\n",
    "    \n",
    "    # Find all user that have viewed selected anime\n",
    "    viewers_sets = []\n",
    "    for anime_id in anime_ids:\n",
    "        viewers = set(df[(df['anime_id'] == anime_id) & (df['rating'] > 0)]['user_id'].unique())\n",
    "        viewers_sets.append(viewers)\n",
    "    common_viewers = set.intersection(*viewers_sets)\n",
    "\n",
    "    # If no user view the selected anime\n",
    "    if not common_viewers:\n",
    "        return \"⚠️ No user viewed the selected anime\"\n",
    "    \n",
    "    sampled_users = list(common_viewers) \n",
    "    \n",
    "    # Recommend to user\n",
    "    all_recommendations = pd.DataFrame()\n",
    "    for user in sampled_users:\n",
    "        result = recommend_anime_for_user(user, top_k_similar_users=5, top_n_recommendations=top_n_recommendations)\n",
    "        if isinstance(result, pd.DataFrame):\n",
    "            all_recommendations = pd.concat([all_recommendations, result], ignore_index=True)\n",
    "    \n",
    "    if all_recommendations.empty:\n",
    "        return \"⚠️ No recommend result\"\n",
    "    \n",
    "    # remove repeated anime \n",
    "    grouped = all_recommendations.groupby('title').agg({'score': 'mean'}).reset_index()\n",
    "    final = grouped.sort_values(by='score', ascending=False).head(top_n_recommendations)\n",
    "    \n",
    "    return final.reset_index(drop=True)"
   ]
  },
  {
   "cell_type": "markdown",
   "id": "58a6c0ec-5010-4b4d-90be-11e2b8112b4d",
   "metadata": {},
   "source": [
    "### Try Run User-Based Collaborative Filtering"
   ]
  },
  {
   "cell_type": "code",
   "execution_count": null,
   "id": "f2ba5378-c354-4e6d-913c-fc4c317fedb6",
   "metadata": {},
   "outputs": [],
   "source": [
    "print(\"User-Based Collaborative Filtering\")\n",
    "Selected_anime = ['Toradora!','Another']\n",
    "print(Selected_anime)\n",
    "print(recommend_based_on_anime_viewers(Selected_anime, 10))"
   ]
  }
 ],
 "metadata": {
  "kernelspec": {
   "display_name": "Python [conda env:base] *",
   "language": "python",
   "name": "conda-base-py"
  },
  "language_info": {
   "codemirror_mode": {
    "name": "ipython",
    "version": 3
   },
   "file_extension": ".py",
   "mimetype": "text/x-python",
   "name": "python",
   "nbconvert_exporter": "python",
   "pygments_lexer": "ipython3",
   "version": "3.13.5"
  }
 },
 "nbformat": 4,
 "nbformat_minor": 5
}
