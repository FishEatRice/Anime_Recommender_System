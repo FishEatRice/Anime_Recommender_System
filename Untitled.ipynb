{
 "cells": [
  {
   "cell_type": "code",
   "execution_count": 8,
   "id": "908846f6-b915-4cb3-a37d-d2edcfb5204e",
   "metadata": {},
   "outputs": [
    {
     "name": "stdout",
     "output_type": "stream",
     "text": [
      "Empty DataFrame\n",
      "Columns: [uid, title, genre, synopsis, score]\n",
      "Index: []\n"
     ]
    }
   ],
   "source": [
    "import pandas as pd\n",
    "\n",
    "# Load Data\n",
    "reviews = pd.read_csv(\"data/reviews.csv\", encoding=\"ISO-8859-1\")\n",
    "animes = pd.read_csv(\"data/fasttest.csv\", encoding=\"utf-8\")\n",
    "\n",
    "# Data Clearning\n",
    "\n",
    "## Filter H\n",
    "animes = animes[~animes['genre'].str.contains('Hentai', case=False, na=False)]\n",
    "\n",
    "## Keep only needed columns\n",
    "animes = animes[['uid', 'title', 'genre', 'synopsis', 'score']].dropna()\n",
    "reviews = reviews[['profile', 'anime_uid', 'rating']].dropna()\n",
    "    \n",
    "print(animes)\n"
   ]
  }
 ],
 "metadata": {
  "kernelspec": {
   "display_name": "Python [conda env:base] *",
   "language": "python",
   "name": "conda-base-py"
  },
  "language_info": {
   "codemirror_mode": {
    "name": "ipython",
    "version": 3
   },
   "file_extension": ".py",
   "mimetype": "text/x-python",
   "name": "python",
   "nbconvert_exporter": "python",
   "pygments_lexer": "ipython3",
   "version": "3.13.5"
  }
 },
 "nbformat": 4,
 "nbformat_minor": 5
}
