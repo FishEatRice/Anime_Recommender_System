{
 "cells": [
  {
   "cell_type": "code",
   "execution_count": null,
   "id": "3e26e151-cb28-473a-a6f2-3600b13b05e0",
   "metadata": {},
   "outputs": [],
   "source": [
    "pip install streamlit"
   ]
  },
  {
   "cell_type": "code",
   "execution_count": null,
   "id": "e184a55c-1374-4893-95c3-c66d063c2aba",
   "metadata": {},
   "outputs": [],
   "source": [
    "pip install scikit-learn"
   ]
  },
  {
   "cell_type": "code",
   "execution_count": null,
   "id": "862573da-8dd5-4a4b-8895-69eb516303b5",
   "metadata": {},
   "outputs": [],
   "source": [
    "pip install fuzzywuzzy"
   ]
  },
  {
   "cell_type": "code",
   "execution_count": null,
   "id": "739b09ef-9a48-48ea-b943-fed49f557543",
   "metadata": {},
   "outputs": [],
   "source": [
    "pip install python-Levenshtein"
   ]
  },
  {
   "cell_type": "code",
   "execution_count": null,
   "id": "0d4500fd-df41-4b1c-bb37-6456943a42da",
   "metadata": {},
   "outputs": [],
   "source": [
    "pip install streamlit-scroll-to-top"
   ]
  }
 ],
 "metadata": {
  "kernelspec": {
   "display_name": "Python [conda env:base] *",
   "language": "python",
   "name": "conda-base-py"
  },
  "language_info": {
   "codemirror_mode": {
    "name": "ipython",
    "version": 3
   },
   "file_extension": ".py",
   "mimetype": "text/x-python",
   "name": "python",
   "nbconvert_exporter": "python",
   "pygments_lexer": "ipython3",
   "version": "3.13.5"
  }
 },
 "nbformat": 4,
 "nbformat_minor": 5
}
